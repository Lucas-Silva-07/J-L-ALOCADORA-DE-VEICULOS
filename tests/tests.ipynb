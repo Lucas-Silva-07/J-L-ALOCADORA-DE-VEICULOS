{
 "cells": [
  {
   "cell_type": "code",
   "execution_count": 2,
   "id": "6378c6a2",
   "metadata": {},
   "outputs": [
    {
     "name": "stdout",
     "output_type": "stream",
     "text": [
      "\n",
      "Tipos disponíveis na categoria LUCAS:\n",
      "\n",
      "Modelos encontrados (LUCAS > PREMIUM):\n"
     ]
    }
   ],
   "source": [
    "import sqlite3\n",
    "import os\n",
    "\n",
    "#Conexão com Banco de dados\n",
    "db_path = os.path.abspath(\"database/cars.db\")\n",
    "conexao = sqlite3.connect(db_path)\n",
    "conexao.row_factory = sqlite3.Row\n",
    "cursor = conexao.cursor()\n",
    "\n",
    "#Filtra por categoria de custo\n",
    "categoria = input(\"Digite a categoria (ex: Premium ou Custo beneficio): \").strip().upper()\n",
    "cursor.execute(\"SELECT DISTINCT Cat_Carro FROM CARROSS WHERE Cat_Custo = ?\", (categoria,))\n",
    "tipos = cursor.fetchall()\n",
    "\n",
    "print(f\"\\nTipos disponíveis na categoria {categoria}:\")\n",
    "for t in tipos:\n",
    "    print(f\"- {t['Cat_Carro']}\")\n",
    "\n",
    "# Filtra por tipo dentro da categoria\n",
    "tipo = input(\"\\nDigite o tipo que deseja ver (ex: Esportivo): \").strip().upper()\n",
    "cursor.execute(\"SELECT * FROM CARROSS WHERE Cat_Custo = ? AND Cat_Carro = ?\", (categoria, tipo))\n",
    "resultados = cursor.fetchall()\n",
    "\n",
    "print(f\"\\nModelos encontrados ({categoria} > {tipo}):\")\n",
    "for carro in resultados:\n",
    "    print(f\"{carro['Nome']} | R$ {carro['Valor']:.2f}\")\n"
   ]
  }
 ],
 "metadata": {
  "kernelspec": {
   "display_name": "base",
   "language": "python",
   "name": "python3"
  },
  "language_info": {
   "codemirror_mode": {
    "name": "ipython",
    "version": 3
   },
   "file_extension": ".py",
   "mimetype": "text/x-python",
   "name": "python",
   "nbconvert_exporter": "python",
   "pygments_lexer": "ipython3",
   "version": "3.12.7"
  }
 },
 "nbformat": 4,
 "nbformat_minor": 5
}
