{
 "cells": [
  {
   "cell_type": "code",
   "execution_count": 7,
   "id": "6378c6a2",
   "metadata": {},
   "outputs": [
    {
     "name": "stdout",
     "output_type": "stream",
     "text": [
      "None\n"
     ]
    }
   ],
   "source": [
    "import pandas as pd\n",
    "import sqlite3\n",
    "import os\n",
    "\n",
    "#conexao = sqlite3.connect(\"src/database/cars.db\")\n",
    "\n",
    "#tabela_carros = pd.read_sql(\"SELECT * FROM customers\", conexao)\n",
    "#display(tabela_carros)\n",
    "print(os.makedirs(\"src/database\", exist_ok=True))"
   ]
  }
 ],
 "metadata": {
  "kernelspec": {
   "display_name": "base",
   "language": "python",
   "name": "python3"
  },
  "language_info": {
   "codemirror_mode": {
    "name": "ipython",
    "version": 3
   },
   "file_extension": ".py",
   "mimetype": "text/x-python",
   "name": "python",
   "nbconvert_exporter": "python",
   "pygments_lexer": "ipython3",
   "version": "3.12.7"
  }
 },
 "nbformat": 4,
 "nbformat_minor": 5
}
